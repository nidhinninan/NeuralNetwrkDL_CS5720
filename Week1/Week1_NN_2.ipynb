{
 "cells": [
  {
   "metadata": {},
   "cell_type": "markdown",
   "source": [
    "# CS5720: Neural Networks and Deep Learning (Spring 2025)\n",
    "## ICP 1 - Problem 2\n",
    "**Student Name:** Nidhin Ninan\n",
    "\n",
    "**School:** University of Central Missouri\n",
    "\n",
    "**Video Link:** https://drive.google.com/file/d/1LvAV5henaeT3oA9jvUABSN9o7Cl6TrSH/view?usp=drive_link"
   ],
   "id": "a1d685b89ddc2df6"
  },
  {
   "metadata": {},
   "cell_type": "markdown",
   "source": "First define the file path of the input and output txt files",
   "id": "b38569f0822338cb"
  },
  {
   "metadata": {
    "ExecuteTime": {
     "end_time": "2025-01-15T22:28:16.482737Z",
     "start_time": "2025-01-15T22:28:16.478646Z"
    }
   },
   "cell_type": "code",
   "source": [
    "input_file = '/home/nidhinninan/PycharmProjects/pythonProject/CodinPrac/input'\n",
    "output_file = '/home/nidhinninan/PycharmProjects/pythonProject/CodinPrac/output'"
   ],
   "id": "584d8399258b57e8",
   "outputs": [],
   "execution_count": 25
  },
  {
   "metadata": {},
   "cell_type": "markdown",
   "source": [
    "Follow the following logic to get word count for each word in the input.txt file\n",
    "* Load the text in the put file\n",
    "* Print each line after striping the new line character\n",
    "* Split each line into words and then turn each word into lowercase so that we don't count separately capitalized and non-capitalized words\n",
    "* Create a dictionary where the keys are the words and the values are the count"
   ],
   "id": "c3e34fa551ed1471"
  },
  {
   "metadata": {
    "ExecuteTime": {
     "end_time": "2025-01-15T22:45:28.796636Z",
     "start_time": "2025-01-15T22:45:28.791762Z"
    }
   },
   "cell_type": "code",
   "source": [
    "word_dict = {}\n",
    "\n",
    "with open(input_file, 'r') as file:\n",
    "    for line in file:\n",
    "        print(line.strip())\n",
    "        words_org  = line.split()\n",
    "        words = [word.lower() for word in words_org]\n",
    "        for word in words:\n",
    "            if word in word_dict:\n",
    "                word_dict[word] += 1\n",
    "            else:\n",
    "                word_dict[word] = 1"
   ],
   "id": "3b771c1dab9293ff",
   "outputs": [
    {
     "name": "stdout",
     "output_type": "stream",
     "text": [
      "Python Course\n",
      "Deep Learning Course\n"
     ]
    }
   ],
   "execution_count": 29
  },
  {
   "metadata": {},
   "cell_type": "markdown",
   "source": "Print the count of the all the words in the input file that have been processes and saved as a dict  in the form of {word (lowercase),word count}",
   "id": "937179e1f3b4406c"
  },
  {
   "metadata": {
    "ExecuteTime": {
     "end_time": "2025-01-15T22:45:32.259154Z",
     "start_time": "2025-01-15T22:45:32.252977Z"
    }
   },
   "cell_type": "code",
   "source": [
    "print(\"Word_Count:\")\n",
    "for word, count in word_dict.items():\n",
    "    print(f\"{word.capitalize()}: {count}\")"
   ],
   "id": "7224de32bb4bf945",
   "outputs": [
    {
     "name": "stdout",
     "output_type": "stream",
     "text": [
      "Word_Count:\n",
      "Python: 1\n",
      "Course: 2\n",
      "Deep: 1\n",
      "Learning: 1\n"
     ]
    }
   ],
   "execution_count": 30
  },
  {
   "metadata": {},
   "cell_type": "markdown",
   "source": "Save the out of the code to a text file title output.txt",
   "id": "df2c57ff6daa144"
  },
  {
   "metadata": {
    "ExecuteTime": {
     "end_time": "2025-01-15T22:45:43.143327Z",
     "start_time": "2025-01-15T22:45:43.139936Z"
    }
   },
   "cell_type": "code",
   "source": [
    "with open(output_file, 'w') as file:\n",
    "    for line in open(input_file, 'r'):\n",
    "        file.write(line)\n",
    "    file.write(\"Word_Count:\\n\")\n",
    "    for word, count in word_dict.items():\n",
    "        file.write(f\"{word.capitalize()}: {count}\\n\")"
   ],
   "id": "7e577c490be86441",
   "outputs": [],
   "execution_count": 31
  }
 ],
 "metadata": {
  "kernelspec": {
   "display_name": "Python 3",
   "language": "python",
   "name": "python3"
  },
  "language_info": {
   "codemirror_mode": {
    "name": "ipython",
    "version": 2
   },
   "file_extension": ".py",
   "mimetype": "text/x-python",
   "name": "python",
   "nbconvert_exporter": "python",
   "pygments_lexer": "ipython2",
   "version": "2.7.6"
  }
 },
 "nbformat": 4,
 "nbformat_minor": 5
}
