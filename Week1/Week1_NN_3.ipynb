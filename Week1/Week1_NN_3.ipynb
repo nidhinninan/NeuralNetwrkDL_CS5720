{
 "cells": [
  {
   "metadata": {},
   "cell_type": "markdown",
   "source": [
    "# CS5720: Neural Networks and Deep Learning (Spring 2025)\n",
    "## ICP 1 - Problem 3\n",
    "**Student Name:** Nidhin Ninan\n",
    "\n",
    "**School:** University of Central Missouri\n",
    "\n",
    "**Video Link:** https://drive.google.com/file/d/1LxwV5tOtJ626YbCNi8u_kvNx-mTiW3TV/view?usp=drive_link"
   ],
   "id": "e8ba2cc908b75c57"
  },
  {
   "metadata": {},
   "cell_type": "markdown",
   "source": "Interactively add the height in inches one at a time and type q to stop entering values",
   "id": "729314cd76081d43"
  },
  {
   "metadata": {
    "collapsed": true,
    "ExecuteTime": {
     "end_time": "2025-01-15T22:41:53.426680Z",
     "start_time": "2025-01-15T22:41:39.319599Z"
    }
   },
   "cell_type": "code",
   "outputs": [],
   "execution_count": 12,
   "source": [
    "ht_inch = []\n",
    "\n",
    "while True:\n",
    "    ht = input(\"Enter height in inches or enter 'q' to quit :\")\n",
    "    if ht.lower() == 'q':\n",
    "        break\n",
    "    ht_inch = ht_inch + [float(ht)]"
   ],
   "id": "initial_id"
  },
  {
   "metadata": {},
   "cell_type": "markdown",
   "source": "Convert height to cm",
   "id": "e957197ae115a37e"
  },
  {
   "metadata": {
    "ExecuteTime": {
     "end_time": "2025-01-15T22:42:00.485970Z",
     "start_time": "2025-01-15T22:42:00.480980Z"
    }
   },
   "cell_type": "code",
   "source": "ht_cm = [round(ht * 2.54, 2) for ht in ht_inch]",
   "id": "3e3d010aa5804b25",
   "outputs": [],
   "execution_count": 13
  },
  {
   "metadata": {},
   "cell_type": "markdown",
   "source": "Print list of height in inches and height in cm",
   "id": "50695cf286b218eb"
  },
  {
   "metadata": {
    "ExecuteTime": {
     "end_time": "2025-01-15T22:42:04.407714Z",
     "start_time": "2025-01-15T22:42:04.404109Z"
    }
   },
   "cell_type": "code",
   "source": "print(\"Height in Inches: \", [round(num) for num in ht_inch], \"\\nHeight in CM: \", ht_cm )",
   "id": "a922d8d76981e7c9",
   "outputs": [
    {
     "name": "stdout",
     "output_type": "stream",
     "text": [
      "Height in Inches:  [150, 155, 145] \n",
      "Height in CM:  [381.0, 393.7, 368.3]\n"
     ]
    }
   ],
   "execution_count": 14
  }
 ],
 "metadata": {
  "kernelspec": {
   "display_name": "Python 3",
   "language": "python",
   "name": "python3"
  },
  "language_info": {
   "codemirror_mode": {
    "name": "ipython",
    "version": 2
   },
   "file_extension": ".py",
   "mimetype": "text/x-python",
   "name": "python",
   "nbconvert_exporter": "python",
   "pygments_lexer": "ipython2",
   "version": "2.7.6"
  }
 },
 "nbformat": 4,
 "nbformat_minor": 5
}
