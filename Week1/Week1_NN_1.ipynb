{
 "cells": [
  {
   "metadata": {},
   "cell_type": "markdown",
   "source": [
    "# CS5720: Neural Networks and Deep Learning (Spring 2025)\n",
    "## ICP 1 - Problem 1\n",
    "**Student Name:** Nidhin Ninan\n",
    "\n",
    "**School:** University of Central Missouri\n",
    "\n",
    "**Video Link:** https://drive.google.com/file/d/1Lyqsj37zeDj8Na86Bc4uFB1CV39BGBNU/view?usp=sharing"
   ],
   "id": "719ef14a33f7abf1"
  },
  {
   "metadata": {},
   "cell_type": "markdown",
   "source": "Combine first and last name for a full name",
   "id": "6adace73c35824c5"
  },
  {
   "metadata": {
    "collapsed": true,
    "ExecuteTime": {
     "end_time": "2025-01-15T22:22:55.613427Z",
     "start_time": "2025-01-15T22:22:55.611469Z"
    }
   },
   "cell_type": "code",
   "outputs": [],
   "execution_count": 1,
   "source": [
    "def fullname(first, last):\n",
    "    return first + \" \" + last"
   ],
   "id": "initial_id"
  },
  {
   "metadata": {},
   "cell_type": "markdown",
   "source": "Return just alternate characters starting from first letter of the full name",
   "id": "77befe6f7d93faf0"
  },
  {
   "metadata": {
    "ExecuteTime": {
     "end_time": "2025-01-15T22:23:34.212355Z",
     "start_time": "2025-01-15T22:23:34.210123Z"
    }
   },
   "cell_type": "code",
   "source": [
    "def string_alternative(full_name):\n",
    "    return full_name[::2]"
   ],
   "id": "82fe855f70b9f08b",
   "outputs": [],
   "execution_count": 2
  },
  {
   "metadata": {},
   "cell_type": "markdown",
   "source": "Interactively enter the first and last name separately",
   "id": "c723752c68e91db3"
  },
  {
   "metadata": {
    "ExecuteTime": {
     "end_time": "2025-01-15T22:23:50.872215Z",
     "start_time": "2025-01-15T22:23:41.848775Z"
    }
   },
   "cell_type": "code",
   "source": "first = input(\"Enter the first name: \")",
   "id": "c5a5f8397090f0b8",
   "outputs": [],
   "execution_count": 3
  },
  {
   "metadata": {
    "ExecuteTime": {
     "end_time": "2025-01-15T22:23:59.890574Z",
     "start_time": "2025-01-15T22:23:53.490705Z"
    }
   },
   "cell_type": "code",
   "source": "last = input(\"Enter the last name: \")",
   "id": "941891a86ce25840",
   "outputs": [],
   "execution_count": 4
  },
  {
   "metadata": {},
   "cell_type": "markdown",
   "source": "Print full name and string with alternate characters",
   "id": "83981d8b6343bf61"
  },
  {
   "metadata": {
    "ExecuteTime": {
     "end_time": "2025-01-15T22:24:04.004189Z",
     "start_time": "2025-01-15T22:24:04.000796Z"
    }
   },
   "cell_type": "code",
   "source": [
    "full_name = fullname(first, last)\n",
    "print (\"The full name is: \", full_name)\n",
    "print (\"The string with alternate characters: \", string_alternative(full_name))"
   ],
   "id": "601a44049fc3783e",
   "outputs": [
    {
     "name": "stdout",
     "output_type": "stream",
     "text": [
      "The full name is:  Nidhin Ninan\n",
      "The string with alternate characters:  Ndi ia\n"
     ]
    }
   ],
   "execution_count": 5
  }
 ],
 "metadata": {
  "kernelspec": {
   "display_name": "Python 3",
   "language": "python",
   "name": "python3"
  },
  "language_info": {
   "codemirror_mode": {
    "name": "ipython",
    "version": 2
   },
   "file_extension": ".py",
   "mimetype": "text/x-python",
   "name": "python",
   "nbconvert_exporter": "python",
   "pygments_lexer": "ipython2",
   "version": "2.7.6"
  }
 },
 "nbformat": 4,
 "nbformat_minor": 5
}
