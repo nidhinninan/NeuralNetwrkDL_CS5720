{
 "cells": [
  {
   "cell_type": "markdown",
   "id": "0cb1d18e-fe9c-438b-9eb7-7de50ed4ae32",
   "metadata": {},
   "source": [
    "# CS5720: Neural Networks and Deep Learning (Spring 2025)\n",
    "## ICP 3 - Problem 1\n",
    "**Student Name:** Nidhin Ninan\n",
    "\n",
    "**School:** University of Central Missouri\n",
    "\n",
    "**Video Link:** https://drive.google.com/file/d/1argstmAitHnDKo24dn2A9oGuLBMQ0wDE/view?usp=sharing\n",
    "\n"
   ]
  },
  {
   "cell_type": "markdown",
   "id": "44ce7d50-0550-4270-9328-0f31e6b79e24",
   "metadata": {},
   "source": [
    "Import packages"
   ]
  },
  {
   "cell_type": "code",
   "execution_count": 1,
   "id": "717f8b964d77661a",
   "metadata": {
    "ExecuteTime": {
     "end_time": "2025-01-29T01:46:05.724831Z",
     "start_time": "2025-01-29T01:46:05.719013Z"
    }
   },
   "outputs": [],
   "source": [
    "#import all necessary packages\n",
    "import pandas as pd\n",
    "import numpy as np\n",
    "import matplotlib.pyplot as plt #for plotting"
   ]
  },
  {
   "cell_type": "markdown",
   "id": "cd55e7cb-121f-41d7-888f-99ffcb8cabcd",
   "metadata": {},
   "source": [
    "Read the given .csv file (data.csv) using pandas"
   ]
  },
  {
   "cell_type": "code",
   "execution_count": 2,
   "id": "09ac6d39-46cf-40b0-8c67-ac9427ee38b4",
   "metadata": {
    "ExecuteTime": {
     "end_time": "2025-01-29T01:46:05.793616Z",
     "start_time": "2025-01-29T01:46:05.787750Z"
    }
   },
   "outputs": [
    {
     "name": "stdout",
     "output_type": "stream",
     "text": [
      "   Duration  Pulse  Maxpulse  Calories\n",
      "0        60    110       130     409.1\n",
      "1        60    117       145     479.0\n",
      "2        60    103       135     340.0\n",
      "3        45    109       175     282.4\n",
      "4        45    117       148     406.0\n"
     ]
    }
   ],
   "source": [
    "# load data\n",
    "data = pd.read_csv('data.csv')\n",
    "print(data.head())"
   ]
  },
  {
   "cell_type": "code",
   "execution_count": 3,
   "id": "a844225237ac4953",
   "metadata": {
    "ExecuteTime": {
     "end_time": "2025-01-29T01:46:05.812577Z",
     "start_time": "2025-01-29T01:46:05.806012Z"
    }
   },
   "outputs": [
    {
     "name": "stdout",
     "output_type": "stream",
     "text": [
      "<class 'pandas.core.frame.DataFrame'>\n",
      "RangeIndex: 169 entries, 0 to 168\n",
      "Data columns (total 4 columns):\n",
      " #   Column    Non-Null Count  Dtype  \n",
      "---  ------    --------------  -----  \n",
      " 0   Duration  169 non-null    int64  \n",
      " 1   Pulse     169 non-null    int64  \n",
      " 2   Maxpulse  169 non-null    int64  \n",
      " 3   Calories  164 non-null    float64\n",
      "dtypes: float64(1), int64(3)\n",
      "memory usage: 5.4 KB\n"
     ]
    }
   ],
   "source": [
    "#data characteristics\n",
    "data.info()"
   ]
  },
  {
   "cell_type": "markdown",
   "id": "fc2810eb-0d86-4c6e-831e-044d19e9513e",
   "metadata": {},
   "source": [
    "Check and see if there are any null values in the imported table. If null values are found, substitute it with the average of the respective columns"
   ]
  },
  {
   "cell_type": "code",
   "execution_count": 4,
   "id": "cf88ef173e00ff71",
   "metadata": {
    "ExecuteTime": {
     "end_time": "2025-01-29T01:46:05.865134Z",
     "start_time": "2025-01-29T01:46:05.860640Z"
    }
   },
   "outputs": [
    {
     "name": "stdout",
     "output_type": "stream",
     "text": [
      "Number of missing values: 5\n"
     ]
    }
   ],
   "source": [
    "print(f\"Number of missing values: {data.isnull().sum().sum()}\")    #data.isnull()\n",
    "data.fillna(data.mean(), inplace = True) #change the original data frame (inplace=True) but substituting null with mean()"
   ]
  },
  {
   "cell_type": "markdown",
   "id": "4ede6816-4fd2-4028-ba2c-bd5b6afb9a47",
   "metadata": {},
   "source": [
    "Aggregate the Caloriess and Duration columns with the min, max, count and mean of each respectiv column"
   ]
  },
  {
   "cell_type": "code",
   "execution_count": 5,
   "id": "abea8d0653a5a619",
   "metadata": {
    "ExecuteTime": {
     "end_time": "2025-01-29T01:46:05.891292Z",
     "start_time": "2025-01-29T01:46:05.884859Z"
    }
   },
   "outputs": [
    {
     "name": "stdout",
     "output_type": "stream",
     "text": [
      "          Calories    Duration\n",
      "min      50.300000   15.000000\n",
      "max    1860.400000  300.000000\n",
      "count   169.000000  169.000000\n",
      "mean    375.790244   63.846154\n"
     ]
    }
   ],
   "source": [
    "selected_col = data[[\"Calories\", \"Duration\"]]\n",
    "\n",
    "#Aggregate the columns using selected_data.agg()\n",
    "aggreg_columns = selected_col.agg([\"min\",\"max\",\"count\", \"mean\"])\n",
    "print(aggreg_columns)"
   ]
  },
  {
   "cell_type": "markdown",
   "id": "04038895-6fc1-4edd-916d-f0c76bac0690",
   "metadata": {},
   "source": [
    "Filter the dataframe  based on 2 separate fiter conditions to select the rows with; \n",
    "- Calories values between 500 and 1000.\n",
    "- Calories values > 500 and Pulse < 100."
   ]
  },
  {
   "cell_type": "code",
   "execution_count": 11,
   "id": "253c4811-6eea-4174-a064-75baf11b27d7",
   "metadata": {
    "ExecuteTime": {
     "end_time": "2025-01-29T01:46:05.942432Z",
     "start_time": "2025-01-29T01:46:05.936426Z"
    }
   },
   "outputs": [
    {
     "name": "stdout",
     "output_type": "stream",
     "text": [
      "Number of calories between 500 and 1000:      Duration  Pulse  Calories\n",
      "51         80    123       643\n",
      "62        160    109       853\n",
      "65        180     90       800\n",
      "66        150    105       873\n",
      "67        150    107       816\n",
      "72         90    100       700\n",
      "73        150     97       953\n",
      "75         90     98       563\n",
      "90        180    101       600\n",
      "99         90     93       604\n",
      "106       180     90       800\n",
      "Number of entries with calories>500 and pulse<100:      Duration  Pulse  Calories\n",
      "65        180     90       800\n",
      "70        150     97      1115\n",
      "73        150     97       953\n",
      "75         90     98       563\n",
      "99         90     93       604\n",
      "106       180     90       800\n"
     ]
    }
   ],
   "source": [
    "#Filter: Calories values between 500 and 1000.\n",
    "print(f\"Number of calories between 500 and 1000: {(data[(data['Calories'] > 500) & (data['Calories'] < 1000)])}\")\n",
    "\n",
    "#Filter: Calories values between 500 and 1000.\n",
    "print(f\"Number of entries with calories>500 and pulse<100: {(data[(data['Calories'] > 500) & (data['Pulse']<100)])}\")"
   ]
  },
  {
   "cell_type": "markdown",
   "id": "92f36f9d-ac94-4004-8ba6-2aa0d0cb6fe9",
   "metadata": {},
   "source": [
    "Drop entire colums to create new dataframes and also delete entire columns from the original dataframe"
   ]
  },
  {
   "cell_type": "code",
   "execution_count": 7,
   "id": "9e32465f-63c8-44dd-8587-222f86b81a3a",
   "metadata": {
    "ExecuteTime": {
     "end_time": "2025-01-29T01:46:05.964807Z",
     "start_time": "2025-01-29T01:46:05.960919Z"
    }
   },
   "outputs": [
    {
     "name": "stdout",
     "output_type": "stream",
     "text": [
      "   Duration  Pulse  Calories\n",
      "0        60    110     409.1\n",
      "1        60    117     479.0\n",
      "2        60    103     340.0\n",
      "3        45    109     282.4\n",
      "4        45    117     406.0\n"
     ]
    }
   ],
   "source": [
    "# Create a new data dataframe by deleting \"Maxpulse\" column\n",
    "df_modified = data.drop('Maxpulse', axis=1)\n",
    "print(df_modified.head())"
   ]
  },
  {
   "cell_type": "code",
   "execution_count": 8,
   "id": "96444312f4af0b41",
   "metadata": {
    "ExecuteTime": {
     "end_time": "2025-01-29T01:46:06.018096Z",
     "start_time": "2025-01-29T01:46:06.012346Z"
    }
   },
   "outputs": [
    {
     "name": "stdout",
     "output_type": "stream",
     "text": [
      "Original data variable after dropping coloumn:      Duration  Pulse  Calories\n",
      "0          60    110     409.1\n",
      "1          60    117     479.0\n",
      "2          60    103     340.0\n",
      "3          45    109     282.4\n",
      "4          45    117     406.0\n",
      "..        ...    ...       ...\n",
      "164        60    105     290.8\n",
      "165        60    110     300.0\n",
      "166        60    115     310.2\n",
      "167        75    120     320.4\n",
      "168        75    125     330.4\n",
      "\n",
      "[169 rows x 3 columns]\n"
     ]
    }
   ],
   "source": [
    "# Drop 'Maxpulse' column from original data\n",
    "df = data.drop('Maxpulse', axis=1, inplace=True)\n",
    "print(f\"Original data variable after dropping coloumn: {data}\")"
   ]
  },
  {
   "cell_type": "markdown",
   "id": "3dc8cfcd-86ca-4506-b0f4-45d31876b78c",
   "metadata": {},
   "source": [
    "Change datatype of Calories column to int"
   ]
  },
  {
   "cell_type": "code",
   "execution_count": 9,
   "id": "8a5530d2b9cc1f0b",
   "metadata": {
    "ExecuteTime": {
     "end_time": "2025-01-29T01:46:06.045914Z",
     "start_time": "2025-01-29T01:46:06.041026Z"
    }
   },
   "outputs": [
    {
     "name": "stdout",
     "output_type": "stream",
     "text": [
      "Data Types of the data variable; Duration      int64\n",
      "Pulse         int64\n",
      "Calories    float64\n",
      "dtype: object\n",
      "Data Types of the modified data variable; Duration    int64\n",
      "Pulse       int64\n",
      "Calories    int64\n",
      "dtype: object\n"
     ]
    }
   ],
   "source": [
    "print (f\"Data Types of the data variable; {data.dtypes}\")\n",
    "\n",
    "#changing datatype\n",
    "data['Calories'] = data['Calories'].astype(int)\n",
    "print (f\"Data Types of the modified data variable; {data.dtypes}\")"
   ]
  },
  {
   "cell_type": "markdown",
   "id": "1166d446-d00b-418a-b4f8-3de462f17cf0",
   "metadata": {},
   "source": [
    "Generate scatterplot between 'Duration' and 'Calories' using pandas"
   ]
  },
  {
   "cell_type": "code",
   "execution_count": 10,
   "id": "ff7b05ae03bd5702",
   "metadata": {
    "ExecuteTime": {
     "end_time": "2025-01-29T01:46:06.197924Z",
     "start_time": "2025-01-29T01:46:06.091213Z"
    }
   },
   "outputs": [
    {
     "data": {
      "image/png": "[encoded data removed]",
      "text/plain": [
       "<Figure size 640x480 with 1 Axes>"
      ]
     },
     "metadata": {},
     "output_type": "display_data"
    }
   ],
   "source": [
    "# generate scatterplot\n",
    "data.plot(kind='scatter', x = \"Duration\", y = \"Calories\")\n",
    "plt.show()"
   ]
  },
  {
   "cell_type": "markdown",
   "id": "edac9110-4532-4e6d-a826-378d8e93c28e",
   "metadata": {},
   "source": "**VIDEO LINK** : https://drive.google.com/file/d/1argstmAitHnDKo24dn2A9oGuLBMQ0wDE/view?usp=sharing"
  },
  {
   "cell_type": "code",
   "execution_count": null,
   "id": "36d39d19-0198-4f7f-87a2-14016ad8512d",
   "metadata": {},
   "outputs": [],
   "source": []
  }
 ],
 "metadata": {
  "kernelspec": {
   "display_name": "Python CSCE5720",
   "language": "python",
   "name": "csce5720"
  },
  "language_info": {
   "codemirror_mode": {
    "name": "ipython",
    "version": 3
   },
   "file_extension": ".py",
   "mimetype": "text/x-python",
   "name": "python",
   "nbconvert_exporter": "python",
   "pygments_lexer": "ipython3",
   "version": "3.11.11"
  }
 },
 "nbformat": 4,
 "nbformat_minor": 5
}
