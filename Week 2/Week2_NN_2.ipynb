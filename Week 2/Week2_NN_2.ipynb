{
 "cells": [
  {
   "metadata": {},
   "cell_type": "markdown",
   "source": [
    "# CS5720: Neural Networks and Deep Learning (Spring 2025)\n",
    "## ICP 2 - Problem 2\n",
    "**Student Name:** Nidhin Ninan\n",
    "\n",
    "**School:** University of Central Missouri\n",
    "\n",
    "**Video Link:** https://drive.google.com/file/d/1WjSHpy91Yn-WzhPcIszfnTF46LuW9O3q/view?usp=sharing"
   ],
   "id": "b63c031cf8153e92"
  },
  {
   "metadata": {},
   "cell_type": "markdown",
   "source": "Importing Libraries",
   "id": "90bcff00b737226a"
  },
  {
   "metadata": {
    "collapsed": true,
    "ExecuteTime": {
     "end_time": "2025-01-22T03:03:14.203739Z",
     "start_time": "2025-01-22T03:03:14.201407Z"
    }
   },
   "cell_type": "code",
   "source": "import numpy as np",
   "id": "initial_id",
   "outputs": [],
   "execution_count": 5
  },
  {
   "metadata": {},
   "cell_type": "markdown",
   "source": [
    "Creating a 1-D arr with 20 elements with float numbers between 1 and 20.\n",
    "- np.round.uniform with generate numbers in any given specific range\n",
    "- Using np.round() to limit the number of decimal places to 2"
   ],
   "id": "e4a2b9e28e6f3fab"
  },
  {
   "metadata": {
    "ExecuteTime": {
     "end_time": "2025-01-22T03:03:14.251365Z",
     "start_time": "2025-01-22T03:03:14.248127Z"
    }
   },
   "cell_type": "code",
   "source": [
    "#create random arra of 20 elements between 0 and 20\n",
    "x = np.round(np.random.uniform(low=1.0 , high=20.0 , size=20),2) #round off decimal laces to 2\n",
    "print(f\"Original Array : {x}\")"
   ],
   "id": "8f30a509cfaf09f5",
   "outputs": [
    {
     "name": "stdout",
     "output_type": "stream",
     "text": [
      "Original Array : [ 9.67 11.49 13.62  1.01 16.44 10.64  2.19  9.98  8.15 17.05 13.2  19.65\n",
      "  7.68 14.94 18.33  1.14  4.34  3.29  8.47 18.05]\n"
     ]
    }
   ],
   "execution_count": 6
  },
  {
   "metadata": {},
   "cell_type": "markdown",
   "source": "Change the 20 elem 1-D array dimension into 2-D using np.reshape",
   "id": "ac2fcf8cdcd1c895"
  },
  {
   "metadata": {
    "ExecuteTime": {
     "end_time": "2025-01-22T03:03:14.337814Z",
     "start_time": "2025-01-22T03:03:14.329563Z"
    }
   },
   "cell_type": "code",
   "source": [
    "x_reshape = x.reshape(4,5) # change form 20 elemt 1-D arr to 4 row and 5 col 2-D arr\n",
    "print(f\"Reshaped Array (4x5) : {x_reshape}\")"
   ],
   "id": "41419f63f0966a37",
   "outputs": [
    {
     "name": "stdout",
     "output_type": "stream",
     "text": [
      "Reshaped Array (4x5) : [[ 9.67 11.49 13.62  1.01 16.44]\n",
      " [10.64  2.19  9.98  8.15 17.05]\n",
      " [13.2  19.65  7.68 14.94 18.33]\n",
      " [ 1.14  4.34  3.29  8.47 18.05]]\n"
     ]
    }
   ],
   "execution_count": 7
  },
  {
   "metadata": {},
   "cell_type": "markdown",
   "source": [
    "Substitute the max element in each row with 0 using the following logic\n",
    "- Using np.argmax() to find the index of the max element in each row\n",
    "- Then traverse through ach row of the arr using np.arange and and the max_index found earlier"
   ],
   "id": "39fea6a4372f5ff0"
  },
  {
   "metadata": {
    "ExecuteTime": {
     "end_time": "2025-01-22T03:03:14.467241Z",
     "start_time": "2025-01-22T03:03:14.463003Z"
    }
   },
   "cell_type": "code",
   "source": [
    "max_index = np.argmax(x_reshape, axis=1) #find the COL INDEX of max element in each row\n",
    "#substitute each max elemt in each row with 0\n",
    "x_reshape[np.arange(x_reshape.shape[0]),max_index] = 0 #arange generates temp arr of 0 to number of rows of arr-1\n",
    "# cycle through [[0,1,2,3], max elemt of row index]\n",
    "\n",
    "print(f\"Max Element Substituted Array (4x5) : {x_reshape}\")"
   ],
   "id": "5279fb2eec28df77",
   "outputs": [
    {
     "name": "stdout",
     "output_type": "stream",
     "text": [
      "Max Element Substituted Array (4x5) : [[ 9.67 11.49 13.62  1.01  0.  ]\n",
      " [10.64  2.19  9.98  8.15  0.  ]\n",
      " [13.2   0.    7.68 14.94 18.33]\n",
      " [ 1.14  4.34  3.29  8.47  0.  ]]\n"
     ]
    }
   ],
   "execution_count": 8
  },
  {
   "metadata": {},
   "cell_type": "markdown",
   "source": "**VIDEO LINK** : https://drive.google.com/file/d/1WjSHpy91Yn-WzhPcIszfnTF46LuW9O3q/view?usp=sharing",
   "id": "2fc5a2372f47ebfa"
  },
  {
   "metadata": {
    "ExecuteTime": {
     "end_time": "2025-01-22T03:03:14.510432Z",
     "start_time": "2025-01-22T03:03:14.508472Z"
    }
   },
   "cell_type": "code",
   "source": "",
   "id": "29182d436af45100",
   "outputs": [],
   "execution_count": null
  }
 ],
 "metadata": {
  "kernelspec": {
   "display_name": "Python 3",
   "language": "python",
   "name": "python3"
  },
  "language_info": {
   "codemirror_mode": {
    "name": "ipython",
    "version": 2
   },
   "file_extension": ".py",
   "mimetype": "text/x-python",
   "name": "python",
   "nbconvert_exporter": "python",
   "pygments_lexer": "ipython2",
   "version": "2.7.6"
  }
 },
 "nbformat": 4,
 "nbformat_minor": 5
}
