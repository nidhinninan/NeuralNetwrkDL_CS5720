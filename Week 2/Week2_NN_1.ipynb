{
 "cells": [
  {
   "metadata": {},
   "cell_type": "markdown",
   "source": [
    "# CS5720: Neural Networks and Deep Learning (Spring 2025)\n",
    "## ICP 2 - Problem 1\n",
    "**Student Name:** Nidhin Ninan\n",
    "\n",
    "**School:** University of Central Missouri\n",
    "\n",
    "**Video Link:** https://drive.google.com/file/d/1WjZqWTVscW9uhTYu2OCGVObETBJ1RLOo/view?usp=sharing"
   ],
   "id": "c377c34651278c1f"
  },
  {
   "metadata": {},
   "cell_type": "markdown",
   "source": [
    "Create Employee and Fulltime_Employee class\n",
    "- Fulltime_Employee inherits from Employee\n",
    "- Use class methods to calculate totals of employee and total average salary\n",
    "- 2 class variables: num_employees and salary_sum"
   ],
   "id": "c80e6b694661a9c8"
  },
  {
   "metadata": {
    "collapsed": true,
    "ExecuteTime": {
     "end_time": "2025-01-22T02:23:38.899023Z",
     "start_time": "2025-01-22T02:23:38.895709Z"
    }
   },
   "cell_type": "code",
   "source": [
    "class Employee: # Employee Class (Base Class)\n",
    "    #Variables of class NOT INSTANCE.\n",
    "    num_employees = 0\n",
    "    salary_sum = 0\n",
    "\n",
    "    #Contructor Function\n",
    "    def __init__(self, name, family, salary, department):\n",
    "        self.name = name\n",
    "        self.family = family\n",
    "        self.salary = salary\n",
    "        self.department = department\n",
    "        Employee.num_employees += 1 #increase count to employee for EACH time employee is called by either Employee or Fulltime_Employee\n",
    "        Employee.salary_sum += self.salary #add up salary with each new instance\n",
    "\n",
    "    #need class methoods to calculate totals of employee and total average salery\n",
    "    @classmethod\n",
    "    def count_employees(cls):\n",
    "        return cls.num_employees\n",
    "\n",
    "    @classmethod\n",
    "    def avg_salary(cls):\n",
    "        return cls.salary_sum / cls.num_employees"
   ],
   "id": "initial_id",
   "outputs": [],
   "execution_count": 1
  },
  {
   "metadata": {},
   "cell_type": "markdown",
   "source": "Fulltime_Employee Class that inherits from Employee",
   "id": "1896cb57af59f0c2"
  },
  {
   "metadata": {
    "ExecuteTime": {
     "end_time": "2025-01-22T02:23:38.906965Z",
     "start_time": "2025-01-22T02:23:38.904492Z"
    }
   },
   "cell_type": "code",
   "source": [
    "# new fulltime employee class\n",
    "class Fulltime_Employee(Employee): # inherit  Employee properties\n",
    "    def __init__(self, name, family, salary, department):\n",
    "        super().__init__(name, family, salary, department) #initialize super class Employee"
   ],
   "id": "7a7be7ded26ee81",
   "outputs": [],
   "execution_count": 2
  },
  {
   "metadata": {},
   "cell_type": "markdown",
   "source": "Creating instances of Fulltime_Employee and Employee",
   "id": "effb2ffab39086b8"
  },
  {
   "metadata": {
    "ExecuteTime": {
     "end_time": "2025-01-22T02:23:38.972329Z",
     "start_time": "2025-01-22T02:23:38.969971Z"
    }
   },
   "cell_type": "code",
   "source": [
    "# Create employee and fulltime employee instances\n",
    "fullemp_1 = Fulltime_Employee(\"James\",\"Smith\", 100000, \"Engineering\")\n",
    "fullemp_2 = Fulltime_Employee(\"Jill\",\"Smith\", 120000, \"HR\")\n",
    "fullemp_3 = Fulltime_Employee(\"Nathan\",\"Roy\", 90000, \"IT\")\n",
    "\n",
    "emp1 = Employee(\"Roy\",\"Tony\", 100000, \"Engineering\")\n",
    "emp2 = Employee(\"Nancy\",\"Matthew\", 80000, \"Finance\")"
   ],
   "id": "cac1b45aee09300f",
   "outputs": [],
   "execution_count": 3
  },
  {
   "metadata": {},
   "cell_type": "markdown",
   "source": "Print total employee and average salary",
   "id": "86e7026d58e3140d"
  },
  {
   "metadata": {
    "ExecuteTime": {
     "end_time": "2025-01-22T02:23:39.017693Z",
     "start_time": "2025-01-22T02:23:39.014787Z"
    }
   },
   "cell_type": "code",
   "source": [
    "#Print avg salary and total employee by calling member functions\n",
    "print (f\"Number of Employees: {Employee.count_employees()}\")\n",
    "print (f\"Avg Salary of all employees : {Employee.avg_salary()}\")"
   ],
   "id": "7f7a224c5ae71509",
   "outputs": [
    {
     "name": "stdout",
     "output_type": "stream",
     "text": [
      "Number of Employees: 5\n",
      "Avg Salary of all employees : 98000.0\n"
     ]
    }
   ],
   "execution_count": 4
  },
  {
   "metadata": {},
   "cell_type": "markdown",
   "source": "**Video Link** : https://drive.google.com/file/d/1WjZqWTVscW9uhTYu2OCGVObETBJ1RLOo/view?usp=sharing",
   "id": "ab9854f544ef6b4e"
  }
 ],
 "metadata": {
  "kernelspec": {
   "display_name": "Python 3",
   "language": "python",
   "name": "python3"
  },
  "language_info": {
   "codemirror_mode": {
    "name": "ipython",
    "version": 2
   },
   "file_extension": ".py",
   "mimetype": "text/x-python",
   "name": "python",
   "nbconvert_exporter": "python",
   "pygments_lexer": "ipython2",
   "version": "2.7.6"
  }
 },
 "nbformat": 4,
 "nbformat_minor": 5
}
